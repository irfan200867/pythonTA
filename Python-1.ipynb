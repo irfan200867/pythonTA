{
 "cells": [
  {
   "cell_type": "markdown",
   "id": "698294bb",
   "metadata": {
    "slideshow": {
     "slide_type": "slide"
    }
   },
   "source": [
    "# Python\n",
    "\n",
    "## Bagian 1\n",
    "\n",
    "### *Dr. Muhamad Irfan Hakim*\n",
    "\n",
    "#### Kuliah TA 1/TA 2, 3 November 2023"
   ]
  },
  {
   "cell_type": "markdown",
   "id": "6c21eacf",
   "metadata": {
    "slideshow": {
     "slide_type": "slide"
    }
   },
   "source": [
    "# Python Secara INTERAKTIF"
   ]
  },
  {
   "cell_type": "markdown",
   "id": "4835dca1",
   "metadata": {
    "slideshow": {
     "slide_type": "slide"
    }
   },
   "source": [
    "# Opsi-opsi Interaksi dengan python\n",
    "\n",
    "## REPL milik python\n",
    "\n",
    "**REPL** = **R**ead -- **E**valuate -- **Print** -- **L**oop\n",
    "\n",
    "![REPL_PythonW.png](REPL_PythonW.png)"
   ]
  },
  {
   "cell_type": "markdown",
   "id": "84e18800",
   "metadata": {
    "slideshow": {
     "slide_type": "subslide"
    }
   },
   "source": [
    "![REPL_PythonL.png](REPL_PythonL.png)"
   ]
  },
  {
   "cell_type": "markdown",
   "id": "86109e82",
   "metadata": {
    "slideshow": {
     "slide_type": "slide"
    }
   },
   "source": [
    "## Rekam-simpan Interaksi REPL (versi UNIX-like OS)\n",
    "\n",
    "Dengan menggunakan program `script`\n",
    "\n",
    "![REPL_recordingToPy.gif](REPL_recordingToPy.gif)"
   ]
  },
  {
   "cell_type": "markdown",
   "id": "f934e634",
   "metadata": {
    "slideshow": {
     "slide_type": "slide"
    }
   },
   "source": [
    "## IPython: Simpan, Tambah, *Running* File\n",
    "\n",
    "![ipython.png](ipython.png)"
   ]
  },
  {
   "cell_type": "markdown",
   "id": "e3701c1f",
   "metadata": {
    "slideshow": {
     "slide_type": "subslide"
    }
   },
   "source": [
    "![ipythonAndSavingPythonSession.gif](ipythonAndSavingPythonSession.gif)"
   ]
  },
  {
   "cell_type": "markdown",
   "id": "addab885",
   "metadata": {
    "slideshow": {
     "slide_type": "slide"
    }
   },
   "source": [
    "## Notebook: Jupyter Notebook\n",
    "\n",
    "![jupyterNotebook.gif](jupyterNotebook.gif)"
   ]
  },
  {
   "cell_type": "markdown",
   "id": "1d127469",
   "metadata": {
    "slideshow": {
     "slide_type": "slide"
    }
   },
   "source": [
    "## Notebook: Google Colaboratory\n",
    "\n",
    "![googleColab.gif](googleColab.gif)"
   ]
  },
  {
   "cell_type": "markdown",
   "id": "26711d6f",
   "metadata": {
    "slideshow": {
     "slide_type": "slide"
    }
   },
   "source": [
    "# Python Coding"
   ]
  },
  {
   "cell_type": "markdown",
   "id": "e10f2ec3",
   "metadata": {
    "slideshow": {
     "slide_type": "slide"
    }
   },
   "source": [
    "# Empty python file\n",
    "\n",
    "## In UNIX-like OS\n",
    "```\n",
    "# touch null.py\n",
    "# ls -l null.py\n",
    "-rw-r--r-- 1 astro astro 0 Oct  3  2023 null.py\n",
    "# cat null.py\n",
    "# python3 null.py\n",
    "# \n",
    "```"
   ]
  },
  {
   "cell_type": "markdown",
   "id": "99f26de1",
   "metadata": {
    "slideshow": {
     "slide_type": "-"
    }
   },
   "source": [
    "## In Windows OS\n",
    "\n",
    "```\n",
    "D:\\Documents\\lectures\\kuliahTA>copy con null.py\n",
    "^Z\n",
    "        1 file(s) copied.\n",
    "\n",
    "D:\\Documents\\lectures\\kuliahTA>dir null.py\n",
    "\n",
    "03/10/2023  18:48                 0 null.py\n",
    "\n",
    "D:\\Documents\\lectures\\kuliahTA>type null.py\n",
    "\n",
    "D:\\Documents\\lectures\\kuliahTA>python null.py\n",
    "\n",
    "D:\\Documents\\lectures\\kuliahTA>\n",
    "```"
   ]
  },
  {
   "cell_type": "markdown",
   "id": "f2768177",
   "metadata": {
    "slideshow": {
     "slide_type": "slide"
    }
   },
   "source": [
    "# Doing nothing"
   ]
  },
  {
   "cell_type": "code",
   "execution_count": 1,
   "id": "941b61b6",
   "metadata": {},
   "outputs": [],
   "source": [
    "pass"
   ]
  },
  {
   "cell_type": "markdown",
   "id": "40f49480",
   "metadata": {
    "slideshow": {
     "slide_type": "slide"
    }
   },
   "source": [
    "# Hello world (1)"
   ]
  },
  {
   "cell_type": "code",
   "execution_count": 2,
   "id": "a49417e1",
   "metadata": {},
   "outputs": [
    {
     "name": "stdout",
     "output_type": "stream",
     "text": [
      "Hello world!\n"
     ]
    }
   ],
   "source": [
    "print('Hello world!')"
   ]
  },
  {
   "cell_type": "markdown",
   "id": "18e3df0d",
   "metadata": {
    "slideshow": {
     "slide_type": "slide"
    }
   },
   "source": [
    "# Hello world (2)"
   ]
  },
  {
   "cell_type": "code",
   "execution_count": 3,
   "id": "e06629b7",
   "metadata": {
    "slideshow": {
     "slide_type": "-"
    }
   },
   "outputs": [
    {
     "name": "stdout",
     "output_type": "stream",
     "text": [
      "Hello world!\n"
     ]
    }
   ],
   "source": [
    "def main():\n",
    "    print('Hello world!')\n",
    "    return\n",
    "\n",
    "main()"
   ]
  },
  {
   "cell_type": "markdown",
   "id": "1c07ee24",
   "metadata": {
    "slideshow": {
     "slide_type": "slide"
    }
   },
   "source": [
    "# Hello world (3)"
   ]
  },
  {
   "cell_type": "code",
   "execution_count": 4,
   "id": "3d405dc4",
   "metadata": {},
   "outputs": [
    {
     "name": "stdout",
     "output_type": "stream",
     "text": [
      "Hello world!\n"
     ]
    }
   ],
   "source": [
    "def main():\n",
    "    print('Hello world!')\n",
    "    return\n",
    "\n",
    "if __name__ == '__main__':\n",
    "    main()"
   ]
  },
  {
   "cell_type": "markdown",
   "id": "e2f84177",
   "metadata": {
    "slideshow": {
     "slide_type": "slide"
    }
   },
   "source": [
    "# Running .py File"
   ]
  },
  {
   "cell_type": "markdown",
   "id": "f0f2c9a8",
   "metadata": {
    "slideshow": {
     "slide_type": "slide"
    }
   },
   "source": [
    "# In Windows OS\n",
    "\n",
    "![defaultAppsWin.png](defaultAppsWin.png)"
   ]
  },
  {
   "attachments": {
    "runPyInWin.png": {
     "image/png": "[encoded data removed]"
    }
   },
   "cell_type": "markdown",
   "id": "78c8d259",
   "metadata": {
    "slideshow": {
     "slide_type": "subslide"
    }
   },
   "source": [
    "![runPyInWin.png](attachment:runPyInWin.png)"
   ]
  },
  {
   "cell_type": "markdown",
   "id": "0eefe314",
   "metadata": {
    "slideshow": {
     "slide_type": "slide"
    }
   },
   "source": [
    "# In UNIX-like OS\n",
    "\n",
    "![runPyInUNIX.gif](runPyInUNIX.gif)"
   ]
  },
  {
   "cell_type": "markdown",
   "id": "51694b66",
   "metadata": {
    "slideshow": {
     "slide_type": "slide"
    }
   },
   "source": [
    "# Python Keywords\n",
    "```\n",
    "False               class               from                or\n",
    "None                continue            global              pass\n",
    "True                def                 if                  raise\n",
    "and                 del                 import              return\n",
    "as                  elif                in                  try\n",
    "assert              else                is                  while\n",
    "async               except              lambda              with\n",
    "await               finally             nonlocal            yield\n",
    "break               for                 not\n",
    "```"
   ]
  },
  {
   "cell_type": "markdown",
   "id": "5b2d53cc",
   "metadata": {
    "slideshow": {
     "slide_type": "slide"
    }
   },
   "source": [
    "# Python Symbols\n",
    "```\n",
    "!=         +          <=         __         **=\n",
    "\"          +=         <>         `          <<\n",
    "\"\"\"        ,          ==         b\"         ^=\n",
    "%          -          >          b'         ~\n",
    "%=         -=         >=         f\"         *=\n",
    "&          .          >>         f'         <<=\n",
    "&=         ...        >>=        j          _\n",
    "'          /          @          r\"\n",
    "'''        //         J          r'\n",
    "(          //=        [          u\"\n",
    ")          /=         \\          u'\n",
    "*          :          ]          |\n",
    "**         <          ^          |=\n",
    "```"
   ]
  },
  {
   "cell_type": "markdown",
   "id": "af168ff5",
   "metadata": {
    "slideshow": {
     "slide_type": "slide"
    }
   },
   "source": [
    "# Python Help: **modules**, **keywords**, **symbols**, **topics**\n",
    "\n",
    "```\n",
    ">>> help()\n",
    "Welcome to Python 3.9's help utility!\n",
    "\n",
    "If this is your first time using Python, you should definitely check out\n",
    "the tutorial on the Internet at https://docs.python.org/3.9/tutorial/.\n",
    "\n",
    "Enter the name of any module, keyword, or topic to get help on writing\n",
    "Python programs and using Python modules.  To quit this help utility and\n",
    "return to the interpreter, just type \"quit\".\n",
    "\n",
    "To get a list of available modules, keywords, symbols, or topics, type\n",
    "\"modules\", \"keywords\", \"symbols\", or \"topics\".  Each module also comes\n",
    "with a one-line summary of what it does; to list the modules whose name\n",
    "or summary contain a given string such as \"spam\", type \"modules spam\".\n",
    "\n",
    "help>\n",
    "```"
   ]
  },
  {
   "cell_type": "markdown",
   "id": "927d600c",
   "metadata": {
    "slideshow": {
     "slide_type": "slide"
    }
   },
   "source": [
    "# Salah SINTAKS vs EKSEPSI\n",
    "\n",
    "### Salah SINTAKSIS (*SyntaxError*)"
   ]
  },
  {
   "cell_type": "code",
   "execution_count": 5,
   "id": "6aa4e213",
   "metadata": {},
   "outputs": [
    {
     "ename": "SyntaxError",
     "evalue": "expected ':' (1731177891.py, line 4)",
     "output_type": "error",
     "traceback": [
      "\u001b[1;36m  Input \u001b[1;32mIn [5]\u001b[1;36m\u001b[0m\n\u001b[1;33m    if IP > IPthresh\u001b[0m\n\u001b[1;37m                    ^\u001b[0m\n\u001b[1;31mSyntaxError\u001b[0m\u001b[1;31m:\u001b[0m expected ':'\n"
     ]
    }
   ],
   "source": [
    "IP       = 3.7\n",
    "IPthresh = 3.5\n",
    "\n",
    "if IP > IPthresh\n",
    "    print('Selamat')"
   ]
  },
  {
   "cell_type": "markdown",
   "id": "8e7761dc",
   "metadata": {
    "slideshow": {
     "slide_type": "subslide"
    }
   },
   "source": [
    "### Contoh EKSEPSI (secara sintaksis SUDAH BENAR)"
   ]
  },
  {
   "cell_type": "code",
   "execution_count": 6,
   "id": "03bd23d5",
   "metadata": {},
   "outputs": [
    {
     "ename": "ZeroDivisionError",
     "evalue": "float division by zero",
     "output_type": "error",
     "traceback": [
      "\u001b[1;31m---------------------------------------------------------------------------\u001b[0m",
      "\u001b[1;31mZeroDivisionError\u001b[0m                         Traceback (most recent call last)",
      "Input \u001b[1;32mIn [6]\u001b[0m, in \u001b[0;36m<cell line: 4>\u001b[1;34m()\u001b[0m\n\u001b[0;32m      1\u001b[0m a \u001b[38;5;241m=\u001b[39m \u001b[38;5;241m7.4\u001b[39m\n\u001b[0;32m      2\u001b[0m b \u001b[38;5;241m=\u001b[39m \u001b[38;5;241m0\u001b[39m\n\u001b[1;32m----> 4\u001b[0m \u001b[38;5;28mprint\u001b[39m(\u001b[43ma\u001b[49m\u001b[43m \u001b[49m\u001b[38;5;241;43m/\u001b[39;49m\u001b[43m \u001b[49m\u001b[43mb\u001b[49m)\n",
      "\u001b[1;31mZeroDivisionError\u001b[0m: float division by zero"
     ]
    }
   ],
   "source": [
    "a = 7.4\n",
    "b = 0\n",
    "\n",
    "print(a / b)"
   ]
  },
  {
   "cell_type": "markdown",
   "id": "f0fd5c7c",
   "metadata": {
    "slideshow": {
     "slide_type": "subslide"
    }
   },
   "source": [
    "## Beberapa contoh eksepsi\n",
    "\n",
    " * **SyntaxError**, sintaksis salah, dapat berakibat berhentinya kode program\n",
    " * **TypeError**, salah tipe data\n",
    " * **NameError**, variabel dengan nama tertentu tidak ditemukan\n",
    " * **IndexError**, indeks suatu list, tuple (atau jenis urutan lain) di luar rentang yang tersedia\n",
    " * **KeyError**, nilai kunci pada suatu dictionary tidak ditemukan\n",
    " * **ValueError**, nilai yang diinginkan tidak eksis\n",
    " * **IOError**, kesalahan pada operasi I/O pada file, misal baca tulis file\n",
    " * **ZeroDivisionError**, kegagalan karena operasi pembagian dengan angka nol\n",
    " * **ImportError**, gagal menemukan atau memuat (*import*) suatu modul python"
   ]
  },
  {
   "cell_type": "markdown",
   "id": "835d2d5b",
   "metadata": {
    "slideshow": {
     "slide_type": "slide"
    }
   },
   "source": [
    "# Aspek lebih detail bahasa Python"
   ]
  },
  {
   "cell_type": "markdown",
   "id": "971dd71d",
   "metadata": {
    "slideshow": {
     "slide_type": "slide"
    }
   },
   "source": [
    "# [A] Tipe data primitif dan operator"
   ]
  },
  {
   "cell_type": "markdown",
   "id": "a8a9bb23",
   "metadata": {
    "slideshow": {
     "slide_type": "subslide"
    }
   },
   "source": [
    "### Bilangan"
   ]
  },
  {
   "cell_type": "code",
   "execution_count": 7,
   "id": "d5298531",
   "metadata": {},
   "outputs": [
    {
     "data": {
      "text/plain": [
       "333"
      ]
     },
     "execution_count": 7,
     "metadata": {},
     "output_type": "execute_result"
    }
   ],
   "source": [
    "333  # => 333"
   ]
  },
  {
   "cell_type": "markdown",
   "id": "b7ac58b2",
   "metadata": {
    "slideshow": {
     "slide_type": "subslide"
    }
   },
   "source": [
    "### Matematika, seperti yang mudah diduga"
   ]
  },
  {
   "cell_type": "code",
   "execution_count": 8,
   "id": "413ee4a7",
   "metadata": {},
   "outputs": [
    {
     "data": {
      "text/plain": [
       "2"
      ]
     },
     "execution_count": 8,
     "metadata": {},
     "output_type": "execute_result"
    }
   ],
   "source": [
    "1 + 1   # => 2"
   ]
  },
  {
   "cell_type": "code",
   "execution_count": 9,
   "id": "fb860019",
   "metadata": {},
   "outputs": [
    {
     "data": {
      "text/plain": [
       "7"
      ]
     },
     "execution_count": 9,
     "metadata": {},
     "output_type": "execute_result"
    }
   ],
   "source": [
    "8 - 1   # => 7"
   ]
  },
  {
   "cell_type": "code",
   "execution_count": 10,
   "id": "4b78b1ff",
   "metadata": {},
   "outputs": [
    {
     "data": {
      "text/plain": [
       "20"
      ]
     },
     "execution_count": 10,
     "metadata": {},
     "output_type": "execute_result"
    }
   ],
   "source": [
    "10 * 2  # => 20"
   ]
  },
  {
   "cell_type": "code",
   "execution_count": 11,
   "id": "7657398f",
   "metadata": {},
   "outputs": [
    {
     "data": {
      "text/plain": [
       "7.0"
      ]
     },
     "execution_count": 11,
     "metadata": {},
     "output_type": "execute_result"
    }
   ],
   "source": [
    "35 / 5  # => 7.0"
   ]
  },
  {
   "cell_type": "markdown",
   "id": "1ebc70c6",
   "metadata": {
    "slideshow": {
     "slide_type": "subslide"
    }
   },
   "source": [
    "### Pembagian bilangan bulat: dibulatkan ke bawah (untuk bilangan positif dan negatif)"
   ]
  },
  {
   "cell_type": "code",
   "execution_count": 12,
   "id": "5197bce6",
   "metadata": {},
   "outputs": [
    {
     "data": {
      "text/plain": [
       "1"
      ]
     },
     "execution_count": 12,
     "metadata": {},
     "output_type": "execute_result"
    }
   ],
   "source": [
    "5 // 3       # => 1"
   ]
  },
  {
   "cell_type": "code",
   "execution_count": 13,
   "id": "e4c6b82c",
   "metadata": {},
   "outputs": [
    {
     "data": {
      "text/plain": [
       "-2"
      ]
     },
     "execution_count": 13,
     "metadata": {},
     "output_type": "execute_result"
    }
   ],
   "source": [
    "-5 // 3      # => -2"
   ]
  },
  {
   "cell_type": "code",
   "execution_count": 14,
   "id": "e7dc9cf5",
   "metadata": {},
   "outputs": [
    {
     "data": {
      "text/plain": [
       "1.0"
      ]
     },
     "execution_count": 14,
     "metadata": {},
     "output_type": "execute_result"
    }
   ],
   "source": [
    "5.0 // 3.0   # => 1.0 # JUGA BERLAKU UNTUK BILANGAN DESIMAL"
   ]
  },
  {
   "cell_type": "code",
   "execution_count": 15,
   "id": "888716f6",
   "metadata": {},
   "outputs": [
    {
     "data": {
      "text/plain": [
       "-2.0"
      ]
     },
     "execution_count": 15,
     "metadata": {},
     "output_type": "execute_result"
    }
   ],
   "source": [
    "-5.0 // 3.0  # => -2.0"
   ]
  },
  {
   "cell_type": "markdown",
   "id": "9846575f",
   "metadata": {
    "slideshow": {
     "slide_type": "subslide"
    }
   },
   "source": [
    "### Hasil bagi selalu bilangan desimal"
   ]
  },
  {
   "cell_type": "code",
   "execution_count": 16,
   "id": "ace59e7a",
   "metadata": {},
   "outputs": [
    {
     "data": {
      "text/plain": [
       "3.3333333333333335"
      ]
     },
     "execution_count": 16,
     "metadata": {},
     "output_type": "execute_result"
    }
   ],
   "source": [
    "10.0 / 3  # => 3.3333333333333335"
   ]
  },
  {
   "cell_type": "markdown",
   "id": "acc9ba3d",
   "metadata": {
    "slideshow": {
     "slide_type": "subslide"
    }
   },
   "source": [
    "### Operasi modulo"
   ]
  },
  {
   "cell_type": "code",
   "execution_count": 17,
   "id": "0286e41e",
   "metadata": {},
   "outputs": [
    {
     "data": {
      "text/plain": [
       "1"
      ]
     },
     "execution_count": 17,
     "metadata": {},
     "output_type": "execute_result"
    }
   ],
   "source": [
    "7 % 3   # => 1"
   ]
  },
  {
   "cell_type": "markdown",
   "id": "8f2bfabd",
   "metadata": {},
   "source": [
    "#### Nilai dari operasi *i % j* BERTANDA SAMA DENGAN *j* (berbeda dengan bahasa C)"
   ]
  },
  {
   "cell_type": "code",
   "execution_count": 18,
   "id": "2ce4a6c6",
   "metadata": {},
   "outputs": [
    {
     "data": {
      "text/plain": [
       "2"
      ]
     },
     "execution_count": 18,
     "metadata": {},
     "output_type": "execute_result"
    }
   ],
   "source": [
    "-7 % 3  # => 2"
   ]
  },
  {
   "cell_type": "markdown",
   "id": "1aaccd44",
   "metadata": {
    "slideshow": {
     "slide_type": "subslide"
    }
   },
   "source": [
    "### Operasi pangkat"
   ]
  },
  {
   "cell_type": "code",
   "execution_count": 19,
   "id": "f1cd3775",
   "metadata": {},
   "outputs": [
    {
     "data": {
      "text/plain": [
       "(8, 9)"
      ]
     },
     "execution_count": 19,
     "metadata": {},
     "output_type": "execute_result"
    }
   ],
   "source": [
    "2**3, 3 ** 2  # => 8, 9"
   ]
  },
  {
   "cell_type": "markdown",
   "id": "b6d4b759",
   "metadata": {
    "slideshow": {
     "slide_type": "subslide"
    }
   },
   "source": [
    "### Tanda kurung"
   ]
  },
  {
   "cell_type": "code",
   "execution_count": 20,
   "id": "c7d4f445",
   "metadata": {},
   "outputs": [
    {
     "data": {
      "text/plain": [
       "7"
      ]
     },
     "execution_count": 20,
     "metadata": {},
     "output_type": "execute_result"
    }
   ],
   "source": [
    "1 + 3 * 2    # => 7"
   ]
  },
  {
   "cell_type": "code",
   "execution_count": 21,
   "id": "87551df4",
   "metadata": {},
   "outputs": [
    {
     "data": {
      "text/plain": [
       "8"
      ]
     },
     "execution_count": 21,
     "metadata": {},
     "output_type": "execute_result"
    }
   ],
   "source": [
    "(1 + 3) * 2  # => 8"
   ]
  },
  {
   "cell_type": "markdown",
   "id": "88be8e65",
   "metadata": {
    "slideshow": {
     "slide_type": "subslide"
    }
   },
   "source": [
    "### Nilai boolean juga tipe data primitif (PS: Perhatikan huruf besar & kecil)"
   ]
  },
  {
   "cell_type": "code",
   "execution_count": 22,
   "id": "30a4a017",
   "metadata": {},
   "outputs": [
    {
     "data": {
      "text/plain": [
       "True"
      ]
     },
     "execution_count": 22,
     "metadata": {},
     "output_type": "execute_result"
    }
   ],
   "source": [
    "True   # => True"
   ]
  },
  {
   "cell_type": "code",
   "execution_count": 23,
   "id": "76f20534",
   "metadata": {},
   "outputs": [
    {
     "data": {
      "text/plain": [
       "False"
      ]
     },
     "execution_count": 23,
     "metadata": {},
     "output_type": "execute_result"
    }
   ],
   "source": [
    "False  # => False"
   ]
  },
  {
   "cell_type": "code",
   "execution_count": 24,
   "id": "177971b2",
   "metadata": {},
   "outputs": [
    {
     "data": {
      "text/plain": [
       "False"
      ]
     },
     "execution_count": 24,
     "metadata": {},
     "output_type": "execute_result"
    }
   ],
   "source": [
    "not True   # => False"
   ]
  },
  {
   "cell_type": "code",
   "execution_count": 25,
   "id": "f7e94278",
   "metadata": {},
   "outputs": [
    {
     "data": {
      "text/plain": [
       "True"
      ]
     },
     "execution_count": 25,
     "metadata": {},
     "output_type": "execute_result"
    }
   ],
   "source": [
    "not False  # => True"
   ]
  },
  {
   "cell_type": "markdown",
   "id": "ad1bdc5e",
   "metadata": {
    "slideshow": {
     "slide_type": "subslide"
    }
   },
   "source": [
    "### Operator boolean\n",
    "\n",
    "#### PS: \"and\" dan \"or\" peka huruf besar/kecil"
   ]
  },
  {
   "cell_type": "code",
   "execution_count": 26,
   "id": "befd0156",
   "metadata": {},
   "outputs": [
    {
     "data": {
      "text/plain": [
       "False"
      ]
     },
     "execution_count": 26,
     "metadata": {},
     "output_type": "execute_result"
    }
   ],
   "source": [
    "True and False  # => False"
   ]
  },
  {
   "cell_type": "code",
   "execution_count": 27,
   "id": "ede79ef6",
   "metadata": {},
   "outputs": [
    {
     "data": {
      "text/plain": [
       "True"
      ]
     },
     "execution_count": 27,
     "metadata": {},
     "output_type": "execute_result"
    }
   ],
   "source": [
    "False or True   # => True"
   ]
  },
  {
   "cell_type": "markdown",
   "id": "4c3416ef",
   "metadata": {
    "slideshow": {
     "slide_type": "subslide"
    }
   },
   "source": [
    "#### True dan False sebenarnya juga bernilai angka 1 dan 0"
   ]
  },
  {
   "cell_type": "code",
   "execution_count": 28,
   "id": "210ffe29",
   "metadata": {},
   "outputs": [
    {
     "data": {
      "text/plain": [
       "2"
      ]
     },
     "execution_count": 28,
     "metadata": {},
     "output_type": "execute_result"
    }
   ],
   "source": [
    "True + True # => 2"
   ]
  },
  {
   "cell_type": "code",
   "execution_count": 29,
   "id": "ae30bd49",
   "metadata": {},
   "outputs": [
    {
     "data": {
      "text/plain": [
       "8"
      ]
     },
     "execution_count": 29,
     "metadata": {},
     "output_type": "execute_result"
    }
   ],
   "source": [
    "True * 8    # => 8"
   ]
  },
  {
   "cell_type": "code",
   "execution_count": 30,
   "id": "84b3a6ea",
   "metadata": {},
   "outputs": [
    {
     "data": {
      "text/plain": [
       "-5"
      ]
     },
     "execution_count": 30,
     "metadata": {},
     "output_type": "execute_result"
    }
   ],
   "source": [
    "False - 5   # => -5"
   ]
  },
  {
   "cell_type": "markdown",
   "id": "e2e14f6f",
   "metadata": {
    "slideshow": {
     "slide_type": "subslide"
    }
   },
   "source": [
    "#### Operator pembanding akan memeriksa nilai numerik True dan False"
   ]
  },
  {
   "cell_type": "code",
   "execution_count": 31,
   "id": "b0530d49",
   "metadata": {},
   "outputs": [
    {
     "data": {
      "text/plain": [
       "True"
      ]
     },
     "execution_count": 31,
     "metadata": {},
     "output_type": "execute_result"
    }
   ],
   "source": [
    "0 == False  # => True"
   ]
  },
  {
   "cell_type": "code",
   "execution_count": 32,
   "id": "747cd8f1",
   "metadata": {},
   "outputs": [
    {
     "data": {
      "text/plain": [
       "True"
      ]
     },
     "execution_count": 32,
     "metadata": {},
     "output_type": "execute_result"
    }
   ],
   "source": [
    "2 > True    # => True"
   ]
  },
  {
   "cell_type": "code",
   "execution_count": 33,
   "id": "2aa21878",
   "metadata": {},
   "outputs": [
    {
     "data": {
      "text/plain": [
       "False"
      ]
     },
     "execution_count": 33,
     "metadata": {},
     "output_type": "execute_result"
    }
   ],
   "source": [
    "2 == True   # => False"
   ]
  },
  {
   "cell_type": "code",
   "execution_count": 34,
   "id": "3e59b94a",
   "metadata": {},
   "outputs": [
    {
     "data": {
      "text/plain": [
       "True"
      ]
     },
     "execution_count": 34,
     "metadata": {},
     "output_type": "execute_result"
    }
   ],
   "source": [
    "-5 != False # => True"
   ]
  },
  {
   "cell_type": "markdown",
   "id": "094af49c",
   "metadata": {
    "slideshow": {
     "slide_type": "subslide"
    }
   },
   "source": [
    "### *None*, 0, dan semua string/list/dict/tuple/set KOSONG bernilai *FALSE*\n",
    "\n",
    "#### SELAINNYA bernilai *TRUE*"
   ]
  },
  {
   "cell_type": "code",
   "execution_count": 35,
   "id": "8be09433",
   "metadata": {},
   "outputs": [
    {
     "data": {
      "text/plain": [
       "(False, False)"
      ]
     },
     "execution_count": 35,
     "metadata": {},
     "output_type": "execute_result"
    }
   ],
   "source": [
    "bool(None), bool(0)  # => False, False"
   ]
  },
  {
   "cell_type": "code",
   "execution_count": 36,
   "id": "cffa762d",
   "metadata": {},
   "outputs": [
    {
     "data": {
      "text/plain": [
       "(False, False, False, False, False)"
      ]
     },
     "execution_count": 36,
     "metadata": {},
     "output_type": "execute_result"
    }
   ],
   "source": [
    "bool(\"\"), bool([]), bool({}), bool(()), bool(set()) # => False, False, False, False, False"
   ]
  },
  {
   "cell_type": "code",
   "execution_count": 37,
   "id": "8bec3f8a",
   "metadata": {},
   "outputs": [
    {
     "data": {
      "text/plain": [
       "(True, True)"
      ]
     },
     "execution_count": 37,
     "metadata": {},
     "output_type": "execute_result"
    }
   ],
   "source": [
    "bool(4), bool(-6)    # => True, True"
   ]
  },
  {
   "cell_type": "markdown",
   "id": "d726c749",
   "metadata": {
    "slideshow": {
     "slide_type": "subslide"
    }
   },
   "source": [
    "### Operator logika boolean (dan *non-cast value*)"
   ]
  },
  {
   "cell_type": "code",
   "execution_count": 38,
   "id": "62305784",
   "metadata": {},
   "outputs": [
    {
     "data": {
      "text/plain": [
       "(False, True)"
      ]
     },
     "execution_count": 38,
     "metadata": {},
     "output_type": "execute_result"
    }
   ],
   "source": [
    "bool(0), bool(2)     # => False, True"
   ]
  },
  {
   "cell_type": "markdown",
   "id": "68dd2a3e",
   "metadata": {},
   "source": [
    "#### *non-cast value* digunakan"
   ]
  },
  {
   "cell_type": "code",
   "execution_count": 39,
   "id": "77010419",
   "metadata": {},
   "outputs": [
    {
     "data": {
      "text/plain": [
       "0"
      ]
     },
     "execution_count": 39,
     "metadata": {},
     "output_type": "execute_result"
    }
   ],
   "source": [
    "0 and 2     # => 0"
   ]
  },
  {
   "cell_type": "code",
   "execution_count": 40,
   "id": "3574fd09",
   "metadata": {},
   "outputs": [
    {
     "data": {
      "text/plain": [
       "(True, True)"
      ]
     },
     "execution_count": 40,
     "metadata": {},
     "output_type": "execute_result"
    }
   ],
   "source": [
    "bool(-5), bool(2)    # => True, True"
   ]
  },
  {
   "cell_type": "markdown",
   "id": "354404e4",
   "metadata": {},
   "source": [
    "#### *non-cast value* digunakan"
   ]
  },
  {
   "cell_type": "code",
   "execution_count": 41,
   "id": "a283f05e",
   "metadata": {},
   "outputs": [
    {
     "data": {
      "text/plain": [
       "-5"
      ]
     },
     "execution_count": 41,
     "metadata": {},
     "output_type": "execute_result"
    }
   ],
   "source": [
    "-5 or 0     # => -5"
   ]
  },
  {
   "cell_type": "markdown",
   "id": "6e48c782",
   "metadata": {
    "slideshow": {
     "slide_type": "subslide"
    }
   },
   "source": [
    "### Kesamaan & Ketidaksamaan"
   ]
  },
  {
   "cell_type": "code",
   "execution_count": 42,
   "id": "a91bb3c1",
   "metadata": {},
   "outputs": [
    {
     "data": {
      "text/plain": [
       "(True, False)"
      ]
     },
     "execution_count": 42,
     "metadata": {},
     "output_type": "execute_result"
    }
   ],
   "source": [
    "1 == 1, 2 == 1  # => True, False"
   ]
  },
  {
   "cell_type": "code",
   "execution_count": 43,
   "id": "8da3b2fd",
   "metadata": {},
   "outputs": [
    {
     "data": {
      "text/plain": [
       "(False, True)"
      ]
     },
     "execution_count": 43,
     "metadata": {},
     "output_type": "execute_result"
    }
   ],
   "source": [
    "1 != 1, 2 != 1  # => False, True"
   ]
  },
  {
   "cell_type": "markdown",
   "id": "1bd012e6",
   "metadata": {
    "slideshow": {
     "slide_type": "subslide"
    }
   },
   "source": [
    "### Cek nilai di dalam/luar domain"
   ]
  },
  {
   "cell_type": "code",
   "execution_count": 44,
   "id": "8a999aa4",
   "metadata": {},
   "outputs": [
    {
     "data": {
      "text/plain": [
       "(True, False)"
      ]
     },
     "execution_count": 44,
     "metadata": {},
     "output_type": "execute_result"
    }
   ],
   "source": [
    "1 < 2 and 2 < 3 , 2 < 3 and 3 < 2  # => True, False"
   ]
  },
  {
   "cell_type": "code",
   "execution_count": 45,
   "id": "dc1a6f45",
   "metadata": {},
   "outputs": [
    {
     "data": {
      "text/plain": [
       "True"
      ]
     },
     "execution_count": 45,
     "metadata": {},
     "output_type": "execute_result"
    }
   ],
   "source": [
    "1 < 2 < 3  # => True"
   ]
  },
  {
   "cell_type": "code",
   "execution_count": 46,
   "id": "ea24407c",
   "metadata": {},
   "outputs": [
    {
     "data": {
      "text/plain": [
       "False"
      ]
     },
     "execution_count": 46,
     "metadata": {},
     "output_type": "execute_result"
    }
   ],
   "source": [
    "2 < 3 < 2  # => False"
   ]
  },
  {
   "cell_type": "markdown",
   "id": "5c0eeaee",
   "metadata": {
    "slideshow": {
     "slide_type": "subslide"
    }
   },
   "source": [
    "### *is* vs ==\n",
    "\n",
    " * *is* memeriksa apakah dua variabel **merujuk ke objek yang SAMA**\n",
    " * *==* memeriksa apakah semua objek **memiliki nilai yang sama**"
   ]
  },
  {
   "cell_type": "code",
   "execution_count": 47,
   "id": "7d14d7c1",
   "metadata": {},
   "outputs": [
    {
     "name": "stdout",
     "output_type": "stream",
     "text": [
      "True\n"
     ]
    }
   ],
   "source": [
    "a = [1, 2, 3, 4]  # menunjuk a sebagai list yang baru, [1, 2, 3, 4]\n",
    "b = a             # menunjuk b sesuai dengan a yang disamainya\n",
    "\n",
    "print(b is a)     # => True, a dan b merujuk ke objek yang sama"
   ]
  },
  {
   "cell_type": "code",
   "execution_count": 48,
   "id": "73bc64ff",
   "metadata": {},
   "outputs": [
    {
     "data": {
      "text/plain": [
       "True"
      ]
     },
     "execution_count": 48,
     "metadata": {},
     "output_type": "execute_result"
    }
   ],
   "source": [
    "b == a            # => True, isi a dan b adalah sama"
   ]
  },
  {
   "cell_type": "code",
   "execution_count": 49,
   "id": "2e300bc1",
   "metadata": {},
   "outputs": [
    {
     "name": "stdout",
     "output_type": "stream",
     "text": [
      "False\n"
     ]
    }
   ],
   "source": [
    "b = [1, 2, 3, 4]  # BERIKUTNYA, b ditunjuk SEBAGAI LIST YANG BARU, [1, 2, 3, 4]\n",
    "\n",
    "print(b is a)     # => False, a dan b TIDAK MERUJUK KE OBJEK YANG SAMA"
   ]
  },
  {
   "cell_type": "code",
   "execution_count": 50,
   "id": "4286fcb4",
   "metadata": {},
   "outputs": [
    {
     "name": "stdout",
     "output_type": "stream",
     "text": [
      "True\n"
     ]
    }
   ],
   "source": [
    "print(b == a)     # => True, isi a dan b adalah sama"
   ]
  },
  {
   "cell_type": "markdown",
   "id": "b72c722b",
   "metadata": {
    "slideshow": {
     "slide_type": "subslide"
    }
   },
   "source": [
    "### String\n",
    "\n",
    "#### Dideklarasikan dengan tanda baca \" atau '"
   ]
  },
  {
   "cell_type": "code",
   "execution_count": 51,
   "id": "84742208",
   "metadata": {},
   "outputs": [
    {
     "data": {
      "text/plain": [
       "('kuliah TA 1', 'kuliah TA 2')"
      ]
     },
     "execution_count": 51,
     "metadata": {},
     "output_type": "execute_result"
    }
   ],
   "source": [
    "\"kuliah TA 1\", 'kuliah TA 2'"
   ]
  },
  {
   "cell_type": "code",
   "execution_count": 52,
   "id": "7eccf213",
   "metadata": {},
   "outputs": [
    {
     "data": {
      "text/plain": [
       "'Hello world!'"
      ]
     },
     "execution_count": 52,
     "metadata": {},
     "output_type": "execute_result"
    }
   ],
   "source": [
    "\"Hello \" + \"world!\"  # => \"Hello world!\""
   ]
  },
  {
   "cell_type": "code",
   "execution_count": 53,
   "id": "dd1316d5",
   "metadata": {},
   "outputs": [
    {
     "data": {
      "text/plain": [
       "'Hello world!'"
      ]
     },
     "execution_count": 53,
     "metadata": {},
     "output_type": "execute_result"
    }
   ],
   "source": [
    "\"Hello \" \"world!\"    # => \"Hello world!\""
   ]
  },
  {
   "cell_type": "code",
   "execution_count": 54,
   "id": "5023cf75",
   "metadata": {},
   "outputs": [
    {
     "data": {
      "text/plain": [
       "'H'"
      ]
     },
     "execution_count": 54,
     "metadata": {},
     "output_type": "execute_result"
    }
   ],
   "source": [
    "\"Hello world!\"[0]  # => 'H'"
   ]
  },
  {
   "cell_type": "code",
   "execution_count": 55,
   "id": "4aba6a07",
   "metadata": {},
   "outputs": [
    {
     "data": {
      "text/plain": [
       "9"
      ]
     },
     "execution_count": 55,
     "metadata": {},
     "output_type": "execute_result"
    }
   ],
   "source": [
    "len(\"kuliah TA\")  # => 9"
   ]
  },
  {
   "cell_type": "markdown",
   "id": "8eb16a47",
   "metadata": {
    "slideshow": {
     "slide_type": "subslide"
    }
   },
   "source": [
    "#### Format string (*f*-string format)\n",
    "\n",
    "##### Berlaku sejak Python 3.6"
   ]
  },
  {
   "cell_type": "code",
   "execution_count": 56,
   "id": "a960bafa",
   "metadata": {},
   "outputs": [
    {
     "data": {
      "text/plain": [
       "'Alamat kampus: Ganesha'"
      ]
     },
     "execution_count": 56,
     "metadata": {},
     "output_type": "execute_result"
    }
   ],
   "source": [
    "jalan = \"Ganesha\"\n",
    "\n",
    "f\"Alamat kampus: {jalan}\" # => \"Alamat kampus: Ganesha\""
   ]
  },
  {
   "cell_type": "code",
   "execution_count": 57,
   "id": "ce1c08d2",
   "metadata": {},
   "outputs": [
    {
     "data": {
      "text/plain": [
       "'Kata Ganesha berisi 7 karakter'"
      ]
     },
     "execution_count": 57,
     "metadata": {},
     "output_type": "execute_result"
    }
   ],
   "source": [
    "f\"Kata {jalan} berisi {len(jalan)} karakter\" # => \"Kata Ganesha berisi 7 karakter\""
   ]
  },
  {
   "cell_type": "markdown",
   "id": "85df1b5c",
   "metadata": {
    "slideshow": {
     "slide_type": "subslide"
    }
   },
   "source": [
    "### *None*"
   ]
  },
  {
   "cell_type": "code",
   "execution_count": 58,
   "id": "e8592bfa",
   "metadata": {},
   "outputs": [
    {
     "data": {
      "text/plain": [
       "False"
      ]
     },
     "execution_count": 58,
     "metadata": {},
     "output_type": "execute_result"
    }
   ],
   "source": [
    "[] == None"
   ]
  },
  {
   "cell_type": "code",
   "execution_count": 59,
   "id": "4dd877f8",
   "metadata": {},
   "outputs": [
    {
     "data": {
      "text/plain": [
       "False"
      ]
     },
     "execution_count": 59,
     "metadata": {},
     "output_type": "execute_result"
    }
   ],
   "source": [
    "'etc' == None"
   ]
  },
  {
   "cell_type": "markdown",
   "id": "e368fc7f",
   "metadata": {
    "slideshow": {
     "slide_type": "slide"
    }
   },
   "source": [
    "# [B] Variabel dan Koleksi Nilai"
   ]
  },
  {
   "cell_type": "markdown",
   "id": "e34756d6",
   "metadata": {
    "slideshow": {
     "slide_type": "slide"
    }
   },
   "source": [
    "### Input variabel dari konsol"
   ]
  },
  {
   "cell_type": "code",
   "execution_count": 60,
   "id": "e0513055",
   "metadata": {},
   "outputs": [
    {
     "name": "stdout",
     "output_type": "stream",
     "text": [
      "Masukkan bilangan bulat: 123af\n"
     ]
    }
   ],
   "source": [
    "input_string_int_var = input(\"Masukkan bilangan bulat: \") # input data masih diperlakukan sebagai string"
   ]
  },
  {
   "cell_type": "code",
   "execution_count": 61,
   "id": "1bf37e6b",
   "metadata": {},
   "outputs": [
    {
     "data": {
      "text/plain": [
       "str"
      ]
     },
     "execution_count": 61,
     "metadata": {},
     "output_type": "execute_result"
    }
   ],
   "source": [
    "type(input_string_int_var)"
   ]
  },
  {
   "cell_type": "code",
   "execution_count": 62,
   "id": "f3ddee08",
   "metadata": {},
   "outputs": [
    {
     "name": "stdout",
     "output_type": "stream",
     "text": [
      "Masukkan bilangan bulat: 12345\n"
     ]
    }
   ],
   "source": [
    "# input data harus dapat diubah menjadi integer\n",
    "\n",
    "input_string_int_var = int(input(\"Masukkan bilangan bulat: \"))"
   ]
  },
  {
   "cell_type": "code",
   "execution_count": 63,
   "id": "070601d5",
   "metadata": {},
   "outputs": [
    {
     "data": {
      "text/plain": [
       "int"
      ]
     },
     "execution_count": 63,
     "metadata": {},
     "output_type": "execute_result"
    }
   ],
   "source": [
    "type(input_string_int_var)"
   ]
  },
  {
   "cell_type": "markdown",
   "id": "1d824bcc",
   "metadata": {
    "slideshow": {
     "slide_type": "slide"
    }
   },
   "source": [
    "### List"
   ]
  },
  {
   "cell_type": "markdown",
   "id": "f86536c4",
   "metadata": {},
   "source": [
    "#### List kosong"
   ]
  },
  {
   "cell_type": "code",
   "execution_count": 64,
   "id": "e0a0eb99",
   "metadata": {},
   "outputs": [],
   "source": [
    "li = []"
   ]
  },
  {
   "cell_type": "markdown",
   "id": "6a8ae11c",
   "metadata": {},
   "source": [
    "#### List berisi (sejak awal)"
   ]
  },
  {
   "cell_type": "code",
   "execution_count": 65,
   "id": "69095310",
   "metadata": {},
   "outputs": [
    {
     "data": {
      "text/plain": [
       "(4, 6)"
      ]
     },
     "execution_count": 65,
     "metadata": {},
     "output_type": "execute_result"
    }
   ],
   "source": [
    "other_li = [4, 5, 6]\n",
    "\n",
    "other_li[0], other_li[-1]"
   ]
  },
  {
   "cell_type": "code",
   "execution_count": 66,
   "id": "a0ec4ec5",
   "metadata": {},
   "outputs": [
    {
     "ename": "IndexError",
     "evalue": "list index out of range",
     "output_type": "error",
     "traceback": [
      "\u001b[1;31m---------------------------------------------------------------------------\u001b[0m",
      "\u001b[1;31mIndexError\u001b[0m                                Traceback (most recent call last)",
      "Input \u001b[1;32mIn [66]\u001b[0m, in \u001b[0;36m<cell line: 3>\u001b[1;34m()\u001b[0m\n\u001b[0;32m      1\u001b[0m \u001b[38;5;66;03m# IndexError\u001b[39;00m\n\u001b[1;32m----> 3\u001b[0m \u001b[43mother_li\u001b[49m\u001b[43m[\u001b[49m\u001b[38;5;241;43m3\u001b[39;49m\u001b[43m]\u001b[49m\n",
      "\u001b[1;31mIndexError\u001b[0m: list index out of range"
     ]
    }
   ],
   "source": [
    "# IndexError\n",
    "\n",
    "other_li[3]"
   ]
  },
  {
   "cell_type": "markdown",
   "id": "f824df18",
   "metadata": {
    "slideshow": {
     "slide_type": "subslide"
    }
   },
   "source": [
    "#### Penambahan pada list (*APPEND*, *INSERT*)"
   ]
  },
  {
   "cell_type": "code",
   "execution_count": 67,
   "id": "abaaddfc",
   "metadata": {},
   "outputs": [
    {
     "data": {
      "text/plain": [
       "[1, 2, 4, 3]"
      ]
     },
     "execution_count": 67,
     "metadata": {},
     "output_type": "execute_result"
    }
   ],
   "source": [
    "li.append(1)    # li menjadi [1]\n",
    "li.append(2)    # li menjadi [1, 2]\n",
    "li.append(4)    # li menjadi [1, 2, 4]\n",
    "li.append(3)    # li menjadi [1, 2, 4, 3]\n",
    "\n",
    "li"
   ]
  },
  {
   "cell_type": "code",
   "execution_count": 68,
   "id": "5f7f47e1",
   "metadata": {},
   "outputs": [
    {
     "data": {
      "text/plain": [
       "[1, 2, 4, 3, 5]"
      ]
     },
     "execution_count": 68,
     "metadata": {},
     "output_type": "execute_result"
    }
   ],
   "source": [
    "li.insert(4, 5) # li menjadi [1, 2, 4, 3, 5]\n",
    "\n",
    "li"
   ]
  },
  {
   "cell_type": "markdown",
   "id": "2fb68964",
   "metadata": {
    "slideshow": {
     "slide_type": "subslide"
    }
   },
   "source": [
    "#### Pengurangan pada list (*POP*, *DEL*)"
   ]
  },
  {
   "cell_type": "code",
   "execution_count": 69,
   "id": "45aaee9c",
   "metadata": {},
   "outputs": [
    {
     "data": {
      "text/plain": [
       "[1, 2, 4, 3]"
      ]
     },
     "execution_count": 69,
     "metadata": {},
     "output_type": "execute_result"
    }
   ],
   "source": [
    "li.pop()        # => 3 and li is now [1, 2, 4, 3]\n",
    "\n",
    "li"
   ]
  },
  {
   "cell_type": "code",
   "execution_count": 70,
   "id": "81c50b3a",
   "metadata": {},
   "outputs": [
    {
     "data": {
      "text/plain": [
       "[1, 2, 4]"
      ]
     },
     "execution_count": 70,
     "metadata": {},
     "output_type": "execute_result"
    }
   ],
   "source": [
    "li.pop()        # => 3 and li is now [1, 2, 4]\n",
    "\n",
    "li"
   ]
  },
  {
   "cell_type": "code",
   "execution_count": 71,
   "id": "39dcaa60",
   "metadata": {},
   "outputs": [
    {
     "data": {
      "text/plain": [
       "[1, 2, 4, 3]"
      ]
     },
     "execution_count": 71,
     "metadata": {},
     "output_type": "execute_result"
    }
   ],
   "source": [
    "# KEMBALIKAN KE ASAL\n",
    "\n",
    "li.append(3)    # li menjadi [1, 2, 4, 3] kembali\n",
    "\n",
    "li"
   ]
  },
  {
   "cell_type": "code",
   "execution_count": 72,
   "id": "ffeb8b4e",
   "metadata": {},
   "outputs": [
    {
     "data": {
      "text/plain": [
       "[1, 2, 4]"
      ]
     },
     "execution_count": 72,
     "metadata": {},
     "output_type": "execute_result"
    }
   ],
   "source": [
    "del li[3]\n",
    "\n",
    "li"
   ]
  },
  {
   "cell_type": "markdown",
   "id": "8c92e2a3",
   "metadata": {
    "slideshow": {
     "slide_type": "slide"
    }
   },
   "source": [
    "#### Operasi-operasi lain (DITUNDA KE SESI-2)\n",
    "\n",
    "```python\n",
    "li.remove\n",
    "li.index\n",
    "li.extend\n",
    "```\n",
    "\n",
    "dst..."
   ]
  }
 ],
 "metadata": {
  "celltoolbar": "Slideshow",
  "kernelspec": {
   "display_name": "Python 3 (ipykernel)",
   "language": "python",
   "name": "python3"
  },
  "language_info": {
   "codemirror_mode": {
    "name": "ipython",
    "version": 3
   },
   "file_extension": ".py",
   "mimetype": "text/x-python",
   "name": "python",
   "nbconvert_exporter": "python",
   "pygments_lexer": "ipython3",
   "version": "3.10.6"
  }
 },
 "nbformat": 4,
 "nbformat_minor": 5
}
