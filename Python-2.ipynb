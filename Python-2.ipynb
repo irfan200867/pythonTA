{
 "cells": [
  {
   "cell_type": "markdown",
   "id": "698294bb",
   "metadata": {
    "slideshow": {
     "slide_type": "slide"
    }
   },
   "source": [
    "# Python\n",
    "\n",
    "## Bagian 2\n",
    "\n",
    "### *Dr. Muhamad Irfan Hakim*\n",
    "\n",
    "#### Kuliah TA 1/TA 2, 14 November 2023"
   ]
  },
  {
   "cell_type": "markdown",
   "id": "e368fc7f",
   "metadata": {
    "slideshow": {
     "slide_type": "slide"
    }
   },
   "source": [
    "# [B] Variabel dan Koleksi Nilai"
   ]
  },
  {
   "cell_type": "markdown",
   "id": "1d824bcc",
   "metadata": {
    "slideshow": {
     "slide_type": "slide"
    }
   },
   "source": [
    "### List"
   ]
  },
  {
   "cell_type": "markdown",
   "id": "f86536c4",
   "metadata": {},
   "source": [
    "#### List kosong"
   ]
  },
  {
   "cell_type": "code",
   "execution_count": 1,
   "id": "e0a0eb99",
   "metadata": {},
   "outputs": [],
   "source": [
    "li = []"
   ]
  },
  {
   "cell_type": "markdown",
   "id": "6a8ae11c",
   "metadata": {},
   "source": [
    "#### List berisi (sejak awal)"
   ]
  },
  {
   "cell_type": "code",
   "execution_count": 40,
   "id": "69095310",
   "metadata": {},
   "outputs": [
    {
     "data": {
      "text/plain": [
       "(4, 6)"
      ]
     },
     "execution_count": 40,
     "metadata": {},
     "output_type": "execute_result"
    }
   ],
   "source": [
    "other_li = [4, 5, 6]\n",
    "other_li[0], other_li[-1]"
   ]
  },
  {
   "cell_type": "code",
   "execution_count": 41,
   "id": "a0ec4ec5",
   "metadata": {},
   "outputs": [
    {
     "ename": "IndexError",
     "evalue": "list index out of range",
     "output_type": "error",
     "traceback": [
      "\u001b[1;31m---------------------------------------------------------------------------\u001b[0m",
      "\u001b[1;31mIndexError\u001b[0m                                Traceback (most recent call last)",
      "Input \u001b[1;32mIn [41]\u001b[0m, in \u001b[0;36m<cell line: 2>\u001b[1;34m()\u001b[0m\n\u001b[0;32m      1\u001b[0m \u001b[38;5;66;03m# IndexError\u001b[39;00m\n\u001b[1;32m----> 2\u001b[0m \u001b[43mother_li\u001b[49m\u001b[43m[\u001b[49m\u001b[38;5;241;43m3\u001b[39;49m\u001b[43m]\u001b[49m\n",
      "\u001b[1;31mIndexError\u001b[0m: list index out of range"
     ]
    }
   ],
   "source": [
    "# IndexError\n",
    "other_li[3]"
   ]
  },
  {
   "cell_type": "markdown",
   "id": "f824df18",
   "metadata": {
    "slideshow": {
     "slide_type": "subslide"
    }
   },
   "source": [
    "#### Penambahan pada list (*APPEND*, *INSERT*)"
   ]
  },
  {
   "cell_type": "code",
   "execution_count": 4,
   "id": "abaaddfc",
   "metadata": {},
   "outputs": [
    {
     "data": {
      "text/plain": [
       "[1, 2, 4, 3]"
      ]
     },
     "execution_count": 4,
     "metadata": {},
     "output_type": "execute_result"
    }
   ],
   "source": [
    "li.append(1)    # li menjadi [1]\n",
    "li.append(2)    # li menjadi [1, 2]\n",
    "li.append(4)    # li menjadi [1, 2, 4]\n",
    "li.append(3)    # li menjadi [1, 2, 4, 3]\n",
    "\n",
    "li"
   ]
  },
  {
   "cell_type": "code",
   "execution_count": 5,
   "id": "5f7f47e1",
   "metadata": {},
   "outputs": [
    {
     "data": {
      "text/plain": [
       "[1, 2, 4, 3, 5]"
      ]
     },
     "execution_count": 5,
     "metadata": {},
     "output_type": "execute_result"
    }
   ],
   "source": [
    "li.insert(4, 5) # li menjadi [1, 2, 4, 3, 5]\n",
    "\n",
    "li"
   ]
  },
  {
   "cell_type": "markdown",
   "id": "2fb68964",
   "metadata": {
    "slideshow": {
     "slide_type": "subslide"
    }
   },
   "source": [
    "#### Pengurangan pada list (*POP*, *DEL*)"
   ]
  },
  {
   "cell_type": "code",
   "execution_count": 6,
   "id": "45aaee9c",
   "metadata": {},
   "outputs": [
    {
     "data": {
      "text/plain": [
       "[1, 2, 4, 3]"
      ]
     },
     "execution_count": 6,
     "metadata": {},
     "output_type": "execute_result"
    }
   ],
   "source": [
    "li.pop()        # => 3 and li is now [1, 2, 4, 3]\n",
    "li"
   ]
  },
  {
   "cell_type": "code",
   "execution_count": 7,
   "id": "81c50b3a",
   "metadata": {},
   "outputs": [
    {
     "data": {
      "text/plain": [
       "[1, 2, 4]"
      ]
     },
     "execution_count": 7,
     "metadata": {},
     "output_type": "execute_result"
    }
   ],
   "source": [
    "li.pop()        # => 3 and li is now [1, 2, 4]\n",
    "li"
   ]
  },
  {
   "cell_type": "code",
   "execution_count": 8,
   "id": "39dcaa60",
   "metadata": {},
   "outputs": [
    {
     "data": {
      "text/plain": [
       "[1, 2, 4, 3]"
      ]
     },
     "execution_count": 8,
     "metadata": {},
     "output_type": "execute_result"
    }
   ],
   "source": [
    "# KEMBALIKAN KE ASAL\n",
    "\n",
    "li.append(3)    # li menjadi [1, 2, 4, 3] kembali\n",
    "li"
   ]
  },
  {
   "cell_type": "code",
   "execution_count": 9,
   "id": "ffeb8b4e",
   "metadata": {},
   "outputs": [
    {
     "data": {
      "text/plain": [
       "[1, 2, 4]"
      ]
     },
     "execution_count": 9,
     "metadata": {},
     "output_type": "execute_result"
    }
   ],
   "source": [
    "del li[3]\n",
    "li"
   ]
  },
  {
   "cell_type": "markdown",
   "id": "8c92e2a3",
   "metadata": {
    "slideshow": {
     "slide_type": "slide"
    }
   },
   "source": [
    "#### Operasi-operasi lain (UNTUK DIPELAJARI SENDIRI)\n",
    "\n",
    "```python\n",
    "li.remove\n",
    "li.index\n",
    "li.extend\n",
    "```\n",
    "\n",
    "dst..."
   ]
  },
  {
   "cell_type": "markdown",
   "id": "8000fb01",
   "metadata": {
    "slideshow": {
     "slide_type": "slide"
    }
   },
   "source": [
    "# [C] Block, Control Flow, and Iterables"
   ]
  },
  {
   "cell_type": "markdown",
   "id": "0b4ef8ab",
   "metadata": {},
   "source": [
    "- *Control flow* difasilitasi dalam bentuk **BLOK** yang berisi **KEPALA BLOK** & **ANGGOTA BLOK**\n",
    "\n",
    "- **Blok dapat bersarang** di dalam blok lain yang lebih besar\n",
    "\n",
    "- KEPALA BLOK berisi **AWAL KEPALA** & **UJUNG KEPALA**\n",
    "\n",
    "  * **AWAL KEPALA** BLOK adalah untuk **KARAKTER ke-1 di KEPALA BLOK**\n",
    "  \n",
    "  * **UJUNG KEPALA** BLOK adalah tanda baca \"**:**\""
   ]
  },
  {
   "cell_type": "markdown",
   "id": "bed2d202",
   "metadata": {
    "slideshow": {
     "slide_type": "slide"
    }
   },
   "source": [
    "- Ingat bahwa python **SANGAT MENUNTUT KEJELASAN LAYOUT BLOK** untuk kalimat-kalimat perintah di baris berikutnya\n",
    "\n",
    "  * Perhatikan POSISI KOLOM untuk AWAL KEPALA BLOK\n",
    "  \n",
    "  * Cara menempatkan **KARAKTER ke-1 di BARIS ANGGOTA BLOK sangat menentukan untuk kepastian apakah BARIS tsb. DIAKUI SEBAGAI ANGGOTA BLOK atau BUKAN**\n",
    "  \n",
    "  * **KARAKTER ke-1 di ANGGOTA BLOK BARIS ke-1 WAJIB DITULIS MINIMAL MENJOROK KE KANAN 1 SPASI dari posisi kolom AWAL KEPALA BLOK**\n",
    "  \n",
    "  * **Jika** karakter ke-1 baris(-baris) berikutnya **ditulis dengan cara sama dengan baris ke-1**, maka baris(-baris) tersebut adalah **ANGGOTA BLOK**"
   ]
  },
  {
   "cell_type": "code",
   "execution_count": 10,
   "id": "040935b4",
   "metadata": {
    "slideshow": {
     "slide_type": "slide"
    }
   },
   "outputs": [
    {
     "ename": "IndentationError",
     "evalue": "expected an indented block after 'if' statement on line 3 (1291867273.py, line 4)",
     "output_type": "error",
     "traceback": [
      "\u001b[1;36m  Input \u001b[1;32mIn [10]\u001b[1;36m\u001b[0m\n\u001b[1;33m    x = x + 1     # GAGAL menjadi ANGGOTA BLOK; karakter ke-1 di KOLOM yang SAMA dengan UJUNG KEPALA BLOK TERDEKAT\u001b[0m\n\u001b[1;37m    ^\u001b[0m\n\u001b[1;31mIndentationError\u001b[0m\u001b[1;31m:\u001b[0m expected an indented block after 'if' statement on line 3\n"
     ]
    }
   ],
   "source": [
    "x = 0\n",
    "\n",
    "if True:      # KEPALA BLOK; awal kepala adalah huruf \"i\", ujung kepala adalah \":\"\n",
    "x = x + 1     # GAGAL menjadi ANGGOTA BLOK; karakter ke-1 di KOLOM yang SAMA dengan UJUNG KEPALA BLOK TERDEKAT\n",
    "              # --> IndentationError\n",
    "\n",
    "print(f'x = {x}')"
   ]
  },
  {
   "cell_type": "code",
   "execution_count": 11,
   "id": "cec5fd74",
   "metadata": {},
   "outputs": [
    {
     "name": "stdout",
     "output_type": "stream",
     "text": [
      "a = 9\n",
      "b = 10\n"
     ]
    }
   ],
   "source": [
    "a = 8; b = 9\n",
    "\n",
    "if True:       # KEPALA BLOK; awal kepala adalah huruf \"i\", ujung kepala adalah \":\"\n",
    "  a = a + 1    # ANGGOTA BLOK; karakter ke-1 di kolom 3\n",
    "b = b + 1      # BUKAN ANGGOTA BLOK; karakter ke-1 di KOLOM yang SAMA dengan UJUNG KEPALA BLOK TERDEKAT\n",
    "               # TIDAK BERPOTENSI IndentationError\n",
    "\n",
    "print(f'a = {a}'); print(f'b = {b}')"
   ]
  },
  {
   "cell_type": "code",
   "execution_count": 13,
   "id": "d4488ff3",
   "metadata": {
    "slideshow": {
     "slide_type": "slide"
    }
   },
   "outputs": [
    {
     "ename": "IndentationError",
     "evalue": "unindent does not match any outer indentation level (<tokenize>, line 5)",
     "output_type": "error",
     "traceback": [
      "\u001b[1;36m  File \u001b[1;32m<tokenize>:5\u001b[1;36m\u001b[0m\n\u001b[1;33m    d = d + 1    # BUKAN ANGGOTA BLOK; karakter ke-1 di kolom 3; IndentationError\u001b[0m\n\u001b[1;37m    ^\u001b[0m\n\u001b[1;31mIndentationError\u001b[0m\u001b[1;31m:\u001b[0m unindent does not match any outer indentation level\n"
     ]
    }
   ],
   "source": [
    "c = 10; d = 11\n",
    "\n",
    "if True:       # KEPALA BLOK; awal kepala adalah huruf \"i\", ujung kepala adalah \":\"\n",
    "    c = c + 1  # ANGGOTA BLOK; karakter ke-1 di kolom 5\n",
    "  d = d + 1    # BUKAN ANGGOTA BLOK; karakter ke-1 di kolom 3; IndentationError\n",
    "\n",
    "print(f'c = {c}'); print(f'd = {d}')"
   ]
  },
  {
   "cell_type": "markdown",
   "id": "8296a8f4",
   "metadata": {
    "slideshow": {
     "slide_type": "slide"
    }
   },
   "source": [
    "## Tipe *Control Flow* menurut Jumlah Iterasi\n",
    "\n",
    "1. *Control Flow* dengan **jumlah iterasi DEFINITIF**\n",
    "\n",
    "   - **jumlah iterasi = 0** ('**Flow yang DILONCATI**')\n",
    "\n",
    "   - **jumlah iterasi = 1** ('**Flow SEKALI LEWAT**')\n",
    "   \n",
    "   - **jumlah iterasi = 0,...,N**, namun **N** dibatasi oleh:\n",
    "   \n",
    "      * rentang bilangan bulat (*range*),\n",
    "      \n",
    "      * indeks dan nama anggota di dalam *list*\n",
    "\n",
    "\n",
    "2. *Control Flow* dengan **jumlah iterasi TAK DEFINITIF**, berdasarkan pengecekan kondisi yang mungkin tercapai"
   ]
  },
  {
   "cell_type": "markdown",
   "id": "9edfec8d",
   "metadata": {
    "slideshow": {
     "slide_type": "slide"
    }
   },
   "source": [
    "## Flow yang Diloncati\n",
    "\n",
    "Biasanya dimungkinkan dengan blok:\n",
    "\n",
    "- `if` TANPA `elif` dan `else`\n",
    "\n",
    "   ```python\n",
    "   <<BLOK KONDISI 1>>\n",
    "    \n",
    "    if <<NEGASI dari KONDISI 1>>:\n",
    "        <<BLOK PERINTAH>>\n",
    "   ```\n",
    "\n",
    "- `while` TANPA `else`\n",
    "\n",
    "   ```python\n",
    "   <<BLOK KONDISI 1>>\n",
    "    \n",
    "    while <<NEGASI dari KONDISI 1>>:\n",
    "        <<BLOK PERINTAH>>\n",
    "   ```"
   ]
  },
  {
   "cell_type": "markdown",
   "id": "18672d57",
   "metadata": {
    "slideshow": {
     "slide_type": "slide"
    }
   },
   "source": [
    "#### CONTOH"
   ]
  },
  {
   "cell_type": "code",
   "execution_count": 38,
   "id": "ea8f95a6",
   "metadata": {
    "slideshow": {
     "slide_type": "-"
    }
   },
   "outputs": [
    {
     "name": "stdout",
     "output_type": "stream",
     "text": [
      "Blok IF diloncati\n",
      "Blok WHILE juga diloncati\n"
     ]
    }
   ],
   "source": [
    "X = 1711\n",
    "\n",
    "if X == 0:\n",
    "    print('Aku diloncati')\n",
    "    print(f'X = {X}')\n",
    "\n",
    "print('Blok IF diloncati')\n",
    "\n",
    "#########################################\n",
    "\n",
    "y = 1\n",
    "\n",
    "while y > 2:\n",
    "    print('Aduh, aku juga diloncati')\n",
    "    print(f'y = {y}')\n",
    "\n",
    "print('Blok WHILE juga diloncati')"
   ]
  },
  {
   "cell_type": "code",
   "execution_count": 39,
   "id": "437f5459",
   "metadata": {
    "slideshow": {
     "slide_type": "slide"
    }
   },
   "outputs": [],
   "source": [
    "# DUA BLOK while di bawah ini mengikuti\n",
    "# ANALOGI yang SAMA\n",
    "\n",
    "said = False\n",
    "\n",
    "while said:\n",
    "    print('pass')\n",
    "\n",
    "#########################################\n",
    "\n",
    "kata = False\n",
    "\n",
    "while kata == True:\n",
    "    print('pass')"
   ]
  },
  {
   "cell_type": "markdown",
   "id": "39f2dd24",
   "metadata": {
    "slideshow": {
     "slide_type": "slide"
    }
   },
   "source": [
    "## Flow 'Sekali Lewat'\n",
    "\n",
    "### (1) Blok `if` - `else` atau blok `if` - `elif` - `else`\n",
    "\n",
    "SEMUA kondisi yang mungkin, TERANGKUM dalam SEMUA BLOK\n",
    "\n",
    "```python\n",
    "if <<KONDISI 1>>:      # klausul IF adalah MANDATORI\n",
    "    <<BLOK PERINTAH di KONDISI 1>>\n",
    "elif <<KONDISI 2>>:    # klausul ELIF secara baku adalah OPSIONAL\n",
    "    <<BLOK PERINTAH di KONDISI 2>>\n",
    "else:                  # klausul ELSE secara baku juga OPSIONAL\n",
    "    <<BLOK PERINTAH di KONDISI TERAKHIR>>\n",
    "```"
   ]
  },
  {
   "cell_type": "markdown",
   "id": "2cd309cd",
   "metadata": {
    "slideshow": {
     "slide_type": "slide"
    }
   },
   "source": [
    "## Flow 'Sekali Lewat'\n",
    "\n",
    "### (2) Blok `try` - `except` atau blok `try` - `except` - `else` - `finally`\n",
    "\n",
    "Kondisi (TIDAK) ADA EKSEPSIONAL TERANGKUM dalam SEMUA BLOK\n",
    "\n",
    "```python\n",
    "try:\n",
    "    # ... sejumlah baris kode ..\n",
    "except:\n",
    "    # ... penanganan eksepsional (jika diperlukan) ...\n",
    "    # ... blok bersifat opsional ...\n",
    "else:\n",
    "    # ... sejumlah perintah dijalankan jika tidak ada eksepsional\n",
    "finally:\n",
    "    # ... sejumlah perintah. SELALU DIJALANKAN\n",
    "```"
   ]
  },
  {
   "cell_type": "markdown",
   "id": "6e2b8a9c",
   "metadata": {
    "slideshow": {
     "slide_type": "slide"
    }
   },
   "source": [
    "## Flow 'Sekali Lewat'\n",
    "\n",
    "### (3) Blok `while` - `else`\n",
    "\n",
    "SEMUA kondisi yang mungkin, TERANGKUM dalam BLOK WHILE dan BLOK ELSE\n",
    "\n",
    "```python\n",
    "while <<KONDISI 1>>:                        # klausul WHILE adalah MANDATORI\n",
    "    <<BLOK PERINTAH di KONDISI 1>>\n",
    "else:\n",
    "    <<BLOK PERINTAH di SELAIN KONDISI 1>>   # klausul baku ELSE adalah OPSIONAL\n",
    "```"
   ]
  },
  {
   "cell_type": "code",
   "execution_count": 15,
   "id": "8ec0fa35",
   "metadata": {
    "slideshow": {
     "slide_type": "slide"
    }
   },
   "outputs": [
    {
     "name": "stdout",
     "output_type": "stream",
     "text": [
      "var1 is smaller than 10.\n"
     ]
    }
   ],
   "source": [
    "var1 = 5\n",
    "\n",
    "if var1 > 10:      # klausul IF adalah MANDATORI\n",
    "    print(\"var1 is totally bigger than 10.\")\n",
    "elif var1 < 10:    # klausul ELIF secara baku adalah OPSIONAL\n",
    "    print(\"var1 is smaller than 10.\")\n",
    "else:              # klausul ELSE secara baku juga OPSIONAL\n",
    "    print(\"var1 is indeed 10.\")"
   ]
  },
  {
   "cell_type": "code",
   "execution_count": 16,
   "id": "b17c6172",
   "metadata": {},
   "outputs": [
    {
     "name": "stdout",
     "output_type": "stream",
     "text": [
      "7 // 3 = 2\n"
     ]
    }
   ],
   "source": [
    "x, y = 7, 3\n",
    "\n",
    "try:\n",
    "    bagiInt = x // y\n",
    "    print(f'{x} // {y} = {bagiInt}')\n",
    "except ZeroDivisionError:\n",
    "    print('Salah! Pembagian dengan nol')"
   ]
  },
  {
   "cell_type": "code",
   "execution_count": 17,
   "id": "0cc15a26",
   "metadata": {
    "slideshow": {
     "slide_type": "slide"
    }
   },
   "outputs": [
    {
     "name": "stdout",
     "output_type": "stream",
     "text": [
      "Salah! Pembagian dengan nol\n"
     ]
    }
   ],
   "source": [
    "x, y = 7, 0\n",
    "\n",
    "try:\n",
    "    bagiInt = x // y\n",
    "    print(f'{x} // {y} = {bagiInt}')\n",
    "except ZeroDivisionError:\n",
    "    print('Salah! Pembagian dengan nol')"
   ]
  },
  {
   "cell_type": "code",
   "execution_count": 18,
   "id": "3ebd73f1",
   "metadata": {},
   "outputs": [
    {
     "name": "stdout",
     "output_type": "stream",
     "text": [
      "7 // 3 = 2\n"
     ]
    }
   ],
   "source": [
    "x, y = 7, 3\n",
    "\n",
    "try:\n",
    "    bagiInt = x // y\n",
    "except ZeroDivisionError:\n",
    "    print('Salah! Pembagian dengan nol')\n",
    "else:\n",
    "    print(f'{x} // {y} = {bagiInt}')"
   ]
  },
  {
   "cell_type": "code",
   "execution_count": 19,
   "id": "05d6f250",
   "metadata": {
    "slideshow": {
     "slide_type": "slide"
    }
   },
   "outputs": [
    {
     "name": "stdout",
     "output_type": "stream",
     "text": [
      "7 // 0: Salah! Pembagian dengan nol\n",
      "Done!\n"
     ]
    }
   ],
   "source": [
    "x, y = 7, 0\n",
    "\n",
    "try:\n",
    "    bagiInt = x // y\n",
    "except ZeroDivisionError:\n",
    "    print(f'{x} // {y}: Salah! Pembagian dengan nol')\n",
    "else:\n",
    "    print(f'{x} // {y} = {bagiInt}')\n",
    "finally:\n",
    "    print('Done!')"
   ]
  },
  {
   "cell_type": "markdown",
   "id": "a8da4c91",
   "metadata": {
    "slideshow": {
     "slide_type": "slide"
    }
   },
   "source": [
    "##### Apa saja EKSEPSIONAL di Python (bagaimana mencari tahu eksepsional)?\n",
    "\n",
    "```python\n",
    ">>> dir(__builtins__)\n",
    "```\n",
    "\n",
    "Lalu lihatlah kata-kata kunci dengan huruf besar di awal, terutama yang berakhiran `Error`, `Warning`, atau `Exit`. Sejumlah contoh\n",
    "\n",
    " * Eksepsi **Error** (**28 dari total 49**): `ArithmeticError`, `AssertionError`, `AttributeError`, `EOFError`, `FloatingPointError`, `ImportError`, `IndentationError`, `IndexError`, `KeyError`, `LookupError`, `MemoryError`, `NameError`, `NotImplementedError`, `OSError`, `OverflowError`, `ReferenceError`, `RuntimeError`, `SyntaxError`, `TabError`, `SystemError`, `TypeError`, `UnboundLocalError`, `UnicodeError`, `UnicodeEncodeError`, `UnicodeDecodeError`, `UnicodeTranslateError`, `ValueError`, `ZeroDivisionError`\n",
    " \n",
    " * Eksepsi **Warning** (**total 12**): `BytesWarning`, `DeprecationWarning`, `EncodingWarning`, `FutureWarning`, `ImportWarning`, `PendingDeprecationWarning`, `ResourceWarning`, `RuntimeWarning`, `SyntaxWarning`, `UnicodeWarning`, `UserWarning`, `Warning`\n",
    " \n",
    " * Eksepsi **Exit**: `GeneratorExit`, `SystemExit`"
   ]
  },
  {
   "cell_type": "markdown",
   "id": "5a228516",
   "metadata": {
    "slideshow": {
     "slide_type": "slide"
    }
   },
   "source": [
    "## Flow dengan jumlah iterasi = 0,...,N; N bilangan bulat berhingga\n",
    "\n",
    "### jumlah iterasi berbasis list"
   ]
  },
  {
   "cell_type": "code",
   "execution_count": 20,
   "id": "ae1c51b3",
   "metadata": {
    "slideshow": {
     "slide_type": "slide"
    }
   },
   "outputs": [
    {
     "name": "stdout",
     "output_type": "stream",
     "text": [
      "J F Kennedy is a president\n",
      "FITB is a faculty FMIPA is a faculty FSRD is a faculty FTI is a faculty FTMD is a faculty FTSL is a faculty FTTM is a faculty "
     ]
    }
   ],
   "source": [
    "##############################################################\n",
    "balon = []\n",
    "\n",
    "for kelereng in balon:\n",
    "    print(kelereng)\n",
    "\n",
    "##############################################################\n",
    "\n",
    "POTUS = ['J F Kennedy']\n",
    "\n",
    "for president in POTUS:\n",
    "    print(f'{president} is a president')\n",
    "    \n",
    "##############################################################\n",
    "\n",
    "ITB = ['FITB', 'FMIPA', 'FSRD', 'FTI', 'FTMD', 'FTSL', 'FTTM']\n",
    "\n",
    "for faculty in ITB:\n",
    "    print(f'{faculty} is a faculty', end = ' ')"
   ]
  },
  {
   "cell_type": "markdown",
   "id": "4f5a89e8",
   "metadata": {
    "slideshow": {
     "slide_type": "slide"
    }
   },
   "source": [
    "### jumlah iterasi berbasis index dan list (menggunakan `enumerate(...)`)"
   ]
  },
  {
   "cell_type": "code",
   "execution_count": 42,
   "id": "ba530cf6",
   "metadata": {},
   "outputs": [
    {
     "name": "stdout",
     "output_type": "stream",
     "text": [
      "SAPPK is school #1\n",
      "SBM is school #2\n",
      "SF is school #3\n",
      "SITH is school #4\n",
      "STEI is school #5\n"
     ]
    }
   ],
   "source": [
    "ITBs = ['SAPPK', 'SBM', 'SF', 'SITH', 'STEI']\n",
    "\n",
    "for s, school in enumerate(ITBs):            # s -> INDEKS, school -> nama elemen di list ITBs\n",
    "    print(f'{school} is school #{s + 1}')"
   ]
  },
  {
   "cell_type": "markdown",
   "id": "47bbb910",
   "metadata": {
    "slideshow": {
     "slide_type": "slide"
    }
   },
   "source": [
    "### jumlah iterasi berbasis rentang (lower, upper, step)"
   ]
  },
  {
   "cell_type": "code",
   "execution_count": 22,
   "id": "876cadc8",
   "metadata": {},
   "outputs": [
    {
     "name": "stdout",
     "output_type": "stream",
     "text": [
      "0\t1\t2\t3\t\n",
      "1\t2\t3\t\n",
      "0\t3\t6\t9\t"
     ]
    }
   ],
   "source": [
    "for i in range(4):\n",
    "    print(i, end='\\t')    # dari 0 hingga iterasi ke (4 - 1)\n",
    "    \n",
    "print()\n",
    "\n",
    "for i in range(1, 4):     # dari 1 hingga iterasi ke (4 - 1)\n",
    "    print(i, end='\\t')\n",
    "\n",
    "print()\n",
    "\n",
    "for j in range (0, 11, 3): # dari 0 bertambah 3, hingga KELIPATAN 3 TERTINGGI,\n",
    "    print(j, end='\\t')     # ATAU hingga MAKSIMUM iterasi ke (11 - 1)"
   ]
  },
  {
   "cell_type": "markdown",
   "id": "7c820c8a",
   "metadata": {
    "slideshow": {
     "slide_type": "slide"
    }
   },
   "source": [
    "## Flow dengan jumlah iterasi TAK DEFINITIF\n",
    "\n",
    "Jumlah iterasi:\n",
    "\n",
    " * TAK BERHINGGA (untuk dihindari), contoh:\n",
    " \n",
    " ```python\n",
    " # WARNING: INFINITE LOOPS\n",
    " while True:\n",
    "     print('yes')\n",
    " ```\n",
    "\n",
    " * BERHINGGA, namun jumlahnya baru dapat dipastikan pengecekan terakhir KONDISI STOP"
   ]
  },
  {
   "cell_type": "code",
   "execution_count": 23,
   "id": "5c741e8d",
   "metadata": {},
   "outputs": [],
   "source": [
    "# WARNING: INFINITE LOOPS\n",
    "# while True:\n",
    "#    print('yes')"
   ]
  },
  {
   "cell_type": "code",
   "execution_count": 43,
   "id": "41e4c3a9",
   "metadata": {
    "slideshow": {
     "slide_type": "slide"
    }
   },
   "outputs": [
    {
     "name": "stdout",
     "output_type": "stream",
     "text": [
      "epsilon mesin = 2.22044604925031308084726334E-16 dihitung sebanyak 52 kali.\n"
     ]
    }
   ],
   "source": [
    "hitung = 0\n",
    "eps    = 1\n",
    "\n",
    "while 1 + eps > 1:        # KONDISI ITERASI berLANJUT (bila 1 + eps > 1)\n",
    "    hitung = hitung + 1\n",
    "    eps    = eps / 2\n",
    "else:                     # KONDISI (ITERASI) STOP\n",
    "    hitung = hitung - 1   # (KEBALIKAN DARI KONDISI LANJUT)\n",
    "    eps    = 2 * eps\n",
    "\n",
    "print(f'epsilon mesin = {eps:30.26E} dihitung sebanyak {hitung} kali.')"
   ]
  },
  {
   "cell_type": "markdown",
   "id": "8e35bba5",
   "metadata": {
    "slideshow": {
     "slide_type": "slide"
    }
   },
   "source": [
    "# [D] Fungsi: bernama, anonim, *built in*; Docstring\n",
    "\n",
    "## Fungsi bernama"
   ]
  },
  {
   "cell_type": "code",
   "execution_count": 25,
   "id": "0f21311c",
   "metadata": {},
   "outputs": [
    {
     "name": "stdout",
     "output_type": "stream",
     "text": [
      "x is 3 and y is 4\n",
      "7\n",
      "x is 3 and y is 4\n",
      "7\n",
      "x is 4 and y is 3\n",
      "7\n"
     ]
    }
   ],
   "source": [
    "def add(x, y):                                # WITHOUT ANY DEFAULT VALUES\n",
    "    print(\"x is {} and y is {}\".format(x, y))\n",
    "    return x + y\n",
    "\n",
    "print(add(3, 4))\n",
    "print(add(x = 3, y = 4))\n",
    "print(add(y = 3, x = 4))"
   ]
  },
  {
   "cell_type": "code",
   "execution_count": 26,
   "id": "bdfc3003",
   "metadata": {
    "slideshow": {
     "slide_type": "slide"
    }
   },
   "outputs": [
    {
     "name": "stdout",
     "output_type": "stream",
     "text": [
      "x is 3 and y is 10\n",
      "13\n",
      "x is 3 and y is 4\n",
      "7\n",
      "x is 4 and y is 3\n",
      "7\n"
     ]
    }
   ],
   "source": [
    "def addTen(x, y = 10):                         # WITH DEFAULT VALUE of y\n",
    "    # Berikut ini adalah docstring untuk memperjelas apa yang dilakukan \n",
    "    # blok fungsi\n",
    "    '''\n",
    "    Penjumlahan dua bilangan.\n",
    "    Jika bilangan kedua tidak diberikan, bilangan pertama ditambah dengan 10\n",
    "    '''\n",
    "    print(\"x is {} and y is {}\".format(x, y))\n",
    "    return x + y\n",
    "\n",
    "print(addTen(3))\n",
    "print(addTen(3, 4))\n",
    "print(addTen(y = 3, x = 4))"
   ]
  },
  {
   "cell_type": "markdown",
   "id": "37346285",
   "metadata": {
    "slideshow": {
     "slide_type": "slide"
    }
   },
   "source": [
    "## Mengakses *docstring* dari suatu fungsi/objek (bila tersedia)"
   ]
  },
  {
   "cell_type": "code",
   "execution_count": 27,
   "id": "dae45f25",
   "metadata": {},
   "outputs": [
    {
     "data": {
      "text/plain": [
       "'\\n    Penjumlahan dua bilangan.\\n    Jika bilangan kedua tidak diberikan, bilangan pertama ditambah dengan 10\\n    '"
      ]
     },
     "execution_count": 27,
     "metadata": {},
     "output_type": "execute_result"
    }
   ],
   "source": [
    "addTen.__doc__"
   ]
  },
  {
   "cell_type": "code",
   "execution_count": 28,
   "id": "cf09656c",
   "metadata": {},
   "outputs": [
    {
     "name": "stdout",
     "output_type": "stream",
     "text": [
      "\n",
      "    Penjumlahan dua bilangan.\n",
      "    Jika bilangan kedua tidak diberikan, bilangan pertama ditambah dengan 10\n",
      "    \n"
     ]
    }
   ],
   "source": [
    "print(addTen.__doc__)"
   ]
  },
  {
   "cell_type": "code",
   "execution_count": 29,
   "id": "c02c9d23",
   "metadata": {
    "slideshow": {
     "slide_type": "slide"
    }
   },
   "outputs": [
    {
     "ename": "TypeError",
     "evalue": "addTen() got an unexpected keyword argument 'n'",
     "output_type": "error",
     "traceback": [
      "\u001b[1;31m---------------------------------------------------------------------------\u001b[0m",
      "\u001b[1;31mTypeError\u001b[0m                                 Traceback (most recent call last)",
      "Input \u001b[1;32mIn [29]\u001b[0m, in \u001b[0;36m<cell line: 1>\u001b[1;34m()\u001b[0m\n\u001b[1;32m----> 1\u001b[0m \u001b[38;5;28mprint\u001b[39m(\u001b[43maddTen\u001b[49m\u001b[43m(\u001b[49m\u001b[43mx\u001b[49m\u001b[43m \u001b[49m\u001b[38;5;241;43m=\u001b[39;49m\u001b[43m \u001b[49m\u001b[38;5;241;43m2\u001b[39;49m\u001b[43m,\u001b[49m\u001b[43m \u001b[49m\u001b[43mn\u001b[49m\u001b[43m \u001b[49m\u001b[38;5;241;43m=\u001b[39;49m\u001b[43m \u001b[49m\u001b[38;5;241;43m7\u001b[39;49m\u001b[43m)\u001b[49m)\n",
      "\u001b[1;31mTypeError\u001b[0m: addTen() got an unexpected keyword argument 'n'"
     ]
    }
   ],
   "source": [
    "print(addTen(x = 2, n = 7))"
   ]
  },
  {
   "cell_type": "markdown",
   "id": "18416f6b",
   "metadata": {
    "slideshow": {
     "slide_type": "slide"
    }
   },
   "source": [
    "#### Definisi fungsi yang diberi catatan tipe fungsi\n",
    "\n",
    "(Biasanya dipraktekan oleh programmer yang lebih berpengalaman)"
   ]
  },
  {
   "cell_type": "code",
   "execution_count": 30,
   "id": "011ce9e1",
   "metadata": {},
   "outputs": [
    {
     "name": "stdout",
     "output_type": "stream",
     "text": [
      "x is 3 and y is 4\n",
      "-1\n"
     ]
    }
   ],
   "source": [
    "def sub(x, y) -> float:\n",
    "    '''\n",
    "    Selisih dua bilangan riil, bilangan pertama dikurangi bilangan kedua\n",
    "    '''\n",
    "    print(\"x is {} and y is {}\".format(x, y))\n",
    "    return x - y  # Return values with a return statement\n",
    "\n",
    "print(sub(3, 4))"
   ]
  },
  {
   "cell_type": "markdown",
   "id": "2cdbbc93",
   "metadata": {
    "slideshow": {
     "slide_type": "slide"
    }
   },
   "source": [
    "### Lambda: fungsi anonim\n",
    "\n",
    "```python\n",
    "lambda <<variabel/argumen fungsi>> : <<ekspresi untuk fungsi>>\n",
    "```"
   ]
  },
  {
   "cell_type": "code",
   "execution_count": 31,
   "id": "733134ae",
   "metadata": {},
   "outputs": [
    {
     "data": {
      "text/plain": [
       "(8, 9, 2)"
      ]
     },
     "execution_count": 31,
     "metadata": {},
     "output_type": "execute_result"
    }
   ],
   "source": [
    "h = lambda s: s - 19\n",
    "\n",
    "x = 1\n",
    "y = (lambda x: x + 7)(x)\n",
    "\n",
    "z = (lambda q: q // 3)(28)\n",
    "\n",
    "\n",
    "\n",
    "y, z, h(21)"
   ]
  },
  {
   "cell_type": "markdown",
   "id": "6559cb2f",
   "metadata": {
    "slideshow": {
     "slide_type": "slide"
    }
   },
   "source": [
    "### Mengenal beberapa fungsi *built in*\n",
    "\n",
    "Dapat dilihat dari prompt REPL python dengan perintah\n",
    "\n",
    "```python\n",
    ">>> dir(__builtins__)\n",
    "```\n",
    "\n",
    "Lalu cari nama-nama yang TIDAK DIAWALI HURUF BESAR dan TIDAK DIAWALI tanda baca '*__*'\n",
    "\n",
    "Contoh-contohnya antara lain:\n",
    "\n",
    "`len()`, `str()`, `int()`, `float()`, `range()`, `map()`, `max()`, `min()`, `sum()`, `open()`, `sorted()`, `type()`"
   ]
  },
  {
   "cell_type": "code",
   "execution_count": 32,
   "id": "cdf14098",
   "metadata": {
    "slideshow": {
     "slide_type": "slide"
    }
   },
   "outputs": [
    {
     "data": {
      "text/plain": [
       "[4, 2, 3]"
      ]
     },
     "execution_count": 32,
     "metadata": {},
     "output_type": "execute_result"
    }
   ],
   "source": [
    "list(map(max, [1, 2, 3], [4, 2, 1]))  # => [4, 2, 3]"
   ]
  },
  {
   "cell_type": "code",
   "execution_count": 33,
   "id": "92001762",
   "metadata": {},
   "outputs": [
    {
     "data": {
      "text/plain": [
       "[6, 7]"
      ]
     },
     "execution_count": 33,
     "metadata": {},
     "output_type": "execute_result"
    }
   ],
   "source": [
    "list(filter(lambda x: x > 5, [3, 4, 5, 6, 7]))  # => [6, 7]"
   ]
  },
  {
   "cell_type": "markdown",
   "id": "959e8c2e",
   "metadata": {
    "slideshow": {
     "slide_type": "slide"
    }
   },
   "source": [
    "# [E] Modul\n",
    "\n",
    "Modul-modul python sama saja seperti file python lainnya. Tegasnya, **file kode python yang telah ditulis (dengan benar dan valid) adalah suatu modul. Nama modul sama dengan nama file tersebut.**\n",
    "\n",
    "Format perintah-perintah dasar (dalam contoh format):\n",
    "\n",
    " * Format **dasar**: \n",
    " \n",
    "   ```python\n",
    "   import <<NAMA MODUL>>\n",
    "   ```\n",
    " \n",
    " * **Import submodul/fungsi seperlunya**:\n",
    " \n",
    "   ```python\n",
    "   from <<NAMA MODUL>> import <<fungsi1, fungsi2, fungsi3>>\n",
    "   ```"
   ]
  },
  {
   "cell_type": "markdown",
   "id": "c6c6c465",
   "metadata": {
    "slideshow": {
     "slide_type": "slide"
    }
   },
   "source": [
    "# [E] Modul\n",
    "\n",
    " * Format **alias**:\n",
    " \n",
    "   ```python\n",
    "   import <<NAMA MODUL>> as <<NAMA ALIAS dari MODUL>>\n",
    "   ```\n",
    " \n",
    " * **Import SELURUH submodul/fungsi** (TIDAK DIREKOMENDASIKAN):\n",
    " \n",
    "   ```python\n",
    "   from <<NAMA MODUL>> import *\n",
    "   ```"
   ]
  },
  {
   "cell_type": "code",
   "execution_count": 34,
   "id": "66839346",
   "metadata": {
    "slideshow": {
     "slide_type": "slide"
    }
   },
   "outputs": [
    {
     "name": "stdout",
     "output_type": "stream",
     "text": [
      "1.7724538509055159\n"
     ]
    }
   ],
   "source": [
    "import math\n",
    "print(math.sqrt(math.pi))  # akar dari bilangan pi"
   ]
  },
  {
   "cell_type": "code",
   "execution_count": 35,
   "id": "c781501f",
   "metadata": {},
   "outputs": [
    {
     "name": "stdout",
     "output_type": "stream",
     "text": [
      "4\n",
      "3\n"
     ]
    }
   ],
   "source": [
    "# Import fungsi spesifik dari modul\n",
    "from math import ceil, floor\n",
    "print(ceil(3.7))   # => 4\n",
    "print(floor(3.7))  # => 3"
   ]
  },
  {
   "cell_type": "code",
   "execution_count": 36,
   "id": "152f72b4",
   "metadata": {
    "slideshow": {
     "slide_type": "slide"
    }
   },
   "outputs": [
    {
     "data": {
      "text/plain": [
       "True"
      ]
     },
     "execution_count": 36,
     "metadata": {},
     "output_type": "execute_result"
    }
   ],
   "source": [
    "# Import modul disingkat/diberi alias menjadi nama objek yang baru\n",
    "import math as m\n",
    "math.sqrt(16) == m.sqrt(16)  # => True"
   ]
  },
  {
   "cell_type": "code",
   "execution_count": 37,
   "id": "ba13779a",
   "metadata": {},
   "outputs": [],
   "source": [
    "# Import SELURUH fungsi yang ada di modul\n",
    "# PERINGATAN: TIDAK DIREKOMENDASIKAN\n",
    "from math import *"
   ]
  },
  {
   "cell_type": "markdown",
   "id": "ef376949",
   "metadata": {
    "slideshow": {
     "slide_type": "slide"
    }
   },
   "source": [
    "![pythonYOModules.gif](pythonYOModules.gif)"
   ]
  },
  {
   "cell_type": "markdown",
   "id": "7cc1118c",
   "metadata": {
    "slideshow": {
     "slide_type": "slide"
    }
   },
   "source": [
    "![pythonYOModules2.gif](pythonYOModules2.gif)"
   ]
  },
  {
   "cell_type": "markdown",
   "id": "597194c8",
   "metadata": {
    "slideshow": {
     "slide_type": "slide"
    }
   },
   "source": [
    "![pythonYOModules4.gif](pythonYOModules4.gif)"
   ]
  },
  {
   "cell_type": "markdown",
   "id": "5c04c950",
   "metadata": {
    "slideshow": {
     "slide_type": "slide"
    }
   },
   "source": [
    "# Share Some Ideas\n",
    "\n",
    "## (1) Converting from 'X' to python: ChatGPT as an example"
   ]
  },
  {
   "cell_type": "markdown",
   "id": "22b13aa0",
   "metadata": {
    "slideshow": {
     "slide_type": "slide"
    }
   },
   "source": [
    "![ChatGPTcodeConversion.png](ChatGPTcodeConversion.png)"
   ]
  },
  {
   "cell_type": "markdown",
   "id": "26bf3877",
   "metadata": {
    "slideshow": {
     "slide_type": "slide"
    }
   },
   "source": [
    "## (2) Python Virtual Environment for Prototype of Code\n",
    "\n",
    " * Modul `venv` sangat direkomendasikan telah terpasang di PC lokal\n",
    " \n",
    " * **Membuat virtual environment** (dengan perintah `python` atau `python3`):\n",
    " \n",
    " ```bash\n",
    " python -m venv <<NAMA VIRTUAL ENVIRONMENT>>\n",
    " ```\n",
    " \n",
    " * **Menghapus virtual environment**:\n",
    " \n",
    "    - Windows OS:\n",
    "    \n",
    "    ```bash\n",
    "    rmdir /s <<NAMA VIRTUAL ENVIRONMENT>>\n",
    "    ```\n",
    "    \n",
    "    - UNIX-like OS:\n",
    "    \n",
    "    ```bash\n",
    "    rm -rf <<NAMA VIRTUAL ENVIRONMENT>>\n",
    "    ```"
   ]
  },
  {
   "cell_type": "markdown",
   "id": "39477bdb",
   "metadata": {
    "slideshow": {
     "slide_type": "slide"
    }
   },
   "source": [
    "## (2) Python Virtual Environment for Prototype of Code\n",
    "\n",
    " * **Aktivasi virtual environment**:\n",
    " \n",
    "   - Windows OS (merujuk ke folder `Scripts`), contoh:\n",
    "   \n",
    "   ```bash\n",
    "   .\\<<NAMA VIRTUAL ENVIRONMENT>>\\Scripts\\activate.bat\n",
    "   ```\n",
    "   \n",
    "   - UNIX-like OS (merujuk ke folder `bin`), contoh:\n",
    "   \n",
    "   ```bash\n",
    "   . <<NAMA VIRTUAL ENVIRONMENT>>/bin/activate\n",
    "   ```\n",
    "   \n",
    " * **Deaktivasi virtual environment**:\n",
    " \n",
    "   - Windows OS (merujuk ke folder `Scripts`), contoh:\n",
    "   \n",
    "   ```bash\n",
    "   .\\<<NAMA VIRTUAL ENVIRONMENT>>\\Scripts\\deactivate.bat\n",
    "   ```\n",
    "   \n",
    "   - UNIX-like OS (merujuk ke folder `bin`), contoh:\n",
    "   \n",
    "   ```bash\n",
    "   deactivate\n",
    "   ```"
   ]
  },
  {
   "cell_type": "markdown",
   "id": "88c50dd3",
   "metadata": {
    "slideshow": {
     "slide_type": "slide"
    }
   },
   "source": [
    "![pyEnvWindowsOS.gif](pyEnvWindowsOS.gif)"
   ]
  },
  {
   "cell_type": "markdown",
   "id": "6e2099af",
   "metadata": {
    "slideshow": {
     "slide_type": "slide"
    }
   },
   "source": [
    "![pyEnvUNIXLikeOS.gif](pyEnvUNIXLikeOS.gif)"
   ]
  },
  {
   "cell_type": "markdown",
   "id": "160337d4",
   "metadata": {
    "slideshow": {
     "slide_type": "slide"
    }
   },
   "source": [
    "# Terima Kasih"
   ]
  }
 ],
 "metadata": {
  "celltoolbar": "Slideshow",
  "kernelspec": {
   "display_name": "Python 3 (ipykernel)",
   "language": "python",
   "name": "python3"
  },
  "language_info": {
   "codemirror_mode": {
    "name": "ipython",
    "version": 3
   },
   "file_extension": ".py",
   "mimetype": "text/x-python",
   "name": "python",
   "nbconvert_exporter": "python",
   "pygments_lexer": "ipython3",
   "version": "3.10.6"
  }
 },
 "nbformat": 4,
 "nbformat_minor": 5
}
